{
 "cells": [
  {
   "cell_type": "code",
   "execution_count": null,
   "id": "1a9bae97",
   "metadata": {
    "lines_to_next_cell": 1
   },
   "outputs": [],
   "source": [
    "import numpy as np\n",
    "from PIL import Image, ImageDraw, ImageFont\n",
    "from moviepy.editor import VideoClip"
   ]
  },
  {
   "cell_type": "code",
   "execution_count": null,
   "id": "d76a382d",
   "metadata": {
    "lines_to_next_cell": 1
   },
   "outputs": [],
   "source": [
    "def make_ticker(text, duration=3, width=100, height=100):\n",
    "    \"\"\"Создаёт видео с бегущей строкой\"\"\"\n",
    "    def make_frame(t):\n",
    "        \"\"\"Создаёт один кадр\"\"\"\n",
    "        img = Image.new(\"RGB\", (width, height), color=(0, 0, 0))\n",
    "        draw = ImageDraw.Draw(img)\n",
    "\n",
    "        # Загружаем шрифт\n",
    "        font_size = int(height / 2)\n",
    "        try:\n",
    "            font = ImageFont.truetype(\"arial.ttf\", font_size)\n",
    "        except IOError:\n",
    "            font = ImageFont.load_default()\n",
    "\n",
    "        # Рассчитываем положение текста\n",
    "        text_width, text_height = draw.textsize(text, font=font)\n",
    "        x = width - (width + text_width) * t / duration\n",
    "        y = (height - text_height) // 2\n",
    "\n",
    "        # Рисуем текст\n",
    "        draw.text((x, y), text, font=font, fill=(255, 255, 255))\n",
    "\n",
    "        return np.array(img)\n",
    "\n",
    "    # Создаём видео\n",
    "    video = VideoClip(make_frame, duration=duration)\n",
    "    \n",
    "    # Устанавливаем частоту кадров в секунду\n",
    "    video = video.set_fps(30)\n",
    "    \n",
    "    # Записываем результат\n",
    "    video.write_videofile(\"ticker.mp4\", codec=\"libx264\")"
   ]
  },
  {
   "cell_type": "code",
   "execution_count": null,
   "id": "38640f34",
   "metadata": {},
   "outputs": [],
   "source": [
    "if __name__ == \"__main__\":\n",
    "    user_text = input(\"Введите ваш текст: \")\n",
    "    make_ticker(user_text)"
   ]
  }
 ],
 "metadata": {
  "jupytext": {
   "cell_metadata_filter": "-all",
   "main_language": "python",
   "notebook_metadata_filter": "-all"
  }
 },
 "nbformat": 4,
 "nbformat_minor": 5
}
